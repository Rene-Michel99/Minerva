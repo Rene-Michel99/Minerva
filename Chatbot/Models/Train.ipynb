{
 "cells": [
  {
   "cell_type": "code",
   "execution_count": 25,
   "id": "76885a84",
   "metadata": {},
   "outputs": [],
   "source": [
    "import tensorflow as tf\n",
    "import numpy as np\n",
    "import pickle\n",
    "import json\n",
    "import nltk\n",
    "import random\n",
    "from nltk.stem.lancaster import LancasterStemmer\n",
    "stemmer = LancasterStemmer()\n",
    "import matplotlib.pyplot as plt\n",
    "%matplotlib inline"
   ]
  },
  {
   "cell_type": "code",
   "execution_count": 2,
   "id": "9206c1b8",
   "metadata": {},
   "outputs": [
    {
     "name": "stdout",
     "output_type": "stream",
     "text": [
      "64 100\n"
     ]
    }
   ],
   "source": [
    "NEXT_QNT = NEURONS = EPOCHS = 0\n",
    "with open(\"../Data/iniV2.pickle\", \"rb\") as f:\n",
    "    NEXT_QNT , NEURONS, EPOCHS = pickle.load(f)\n",
    "print(NEURONS,EPOCHS)"
   ]
  },
  {
   "cell_type": "code",
   "execution_count": 3,
   "id": "5cb5a7d1",
   "metadata": {},
   "outputs": [],
   "source": [
    "words = []\n",
    "labels = []\n",
    "docs_x = []\n",
    "docs_y = []\n",
    "\n",
    "with open(\"../Data/intents.json\",\"r\",encoding='utf-8') as file:\n",
    "    data = json.load(file)\n",
    "\n",
    "for i,intent in enumerate(data[\"intents\"]):\n",
    "    intent[\"tag\"] = \"tag\"+str(i)\n",
    "\n",
    "with open(\"../Data/intents.json\",\"w\",encoding='utf-8') as file:\n",
    "    json.dump(data,file,indent=3,ensure_ascii=False)"
   ]
  },
  {
   "cell_type": "code",
   "execution_count": 4,
   "id": "db999788",
   "metadata": {},
   "outputs": [
    {
     "data": {
      "text/plain": [
       "204"
      ]
     },
     "execution_count": 4,
     "metadata": {},
     "output_type": "execute_result"
    }
   ],
   "source": [
    "stopwords = nltk.corpus.stopwords.words('portuguese')\n",
    "len(stopwords)"
   ]
  },
  {
   "cell_type": "code",
   "execution_count": 5,
   "id": "c9f50187",
   "metadata": {},
   "outputs": [
    {
     "name": "stdout",
     "output_type": "stream",
     "text": [
      "561\n"
     ]
    }
   ],
   "source": [
    "for intent in data[\"intents\"]:\n",
    "    for pattern in intent[\"patterns\"]:\n",
    "        wrds = nltk.word_tokenize(pattern)\n",
    "        words.extend(wrds)\n",
    "        docs_x.append(wrds)\n",
    "        docs_y.append(intent[\"tag\"])\n",
    "\n",
    "    if intent[\"tag\"] not in labels:\n",
    "        labels.append(intent[\"tag\"])\n",
    "\n",
    "ponctuations = [\"?\",\"'\",'\"',\"!\",\".\",\",\"]\n",
    "\n",
    "#words = [w for w in words if w.lower() not in stopwords]\n",
    "words = [stemmer.stem(w.lower()) for w in words if w not in ponctuations]\n",
    "words = sorted(list(set(words)))\n",
    "labels = sorted(labels)\n",
    "print(len(words))"
   ]
  },
  {
   "cell_type": "code",
   "execution_count": 6,
   "id": "77f51d1d",
   "metadata": {},
   "outputs": [],
   "source": [
    "training = []\n",
    "output = []\n",
    "\n",
    "out_empty = [0 for _ in range(len(labels))]\n",
    "\n",
    "for x, doc in enumerate(docs_x):\n",
    "    bag = []\n",
    "\n",
    "    wrds = [stemmer.stem(w.lower()) for w in doc]\n",
    "\n",
    "    for w in words:\n",
    "        if w in wrds:\n",
    "            bag.append(1)\n",
    "        else:\n",
    "            bag.append(0)\n",
    "\n",
    "    output_row = out_empty[:]\n",
    "    output_row[labels.index(docs_y[x])] = 1\n",
    "\n",
    "    training.append(bag)\n",
    "    output.append(output_row)\n",
    "\n",
    "\n",
    "training = np.array(training)\n",
    "output = np.array(output)\n",
    "N_CLASSES = len(output[0])\n",
    "SHAPE = len(training[0])"
   ]
  },
  {
   "cell_type": "code",
   "execution_count": 7,
   "id": "1f051ac1",
   "metadata": {},
   "outputs": [],
   "source": [
    "def dense_layers(inputs):\n",
    "    x = tf.keras.layers.Dense(32,activation='relu')(inputs)\n",
    "    x = tf.keras.layers.BatchNormalization()(x)\n",
    "    \n",
    "    x = tf.keras.layers.Dense(64,activation='relu')(x)\n",
    "    x = tf.keras.layers.BatchNormalization()(x)\n",
    "    \n",
    "    x = tf.keras.layers.Dense(128,activation='relu')(x)\n",
    "    x = tf.keras.layers.BatchNormalization()(x)\n",
    "    \n",
    "    x = tf.keras.layers.Dense(256,activation='relu')(x)\n",
    "    x = tf.keras.layers.BatchNormalization()(x)\n",
    "    return x\n",
    "\n",
    "def classfier_layer(x,N_CLASSES):\n",
    "    x = tf.keras.layers.Dense(N_CLASSES,activation='softmax',name='classification')(x)\n",
    "    return x\n",
    "\n",
    "def final_model(inputs,N_CLASSES):\n",
    "    dense = dense_layers(inputs)\n",
    "    \n",
    "    classfier = classfier_layer(dense,N_CLASSES)\n",
    "    \n",
    "    model = tf.keras.Model(inputs=inputs,outputs=classfier)\n",
    "    \n",
    "    return model\n",
    "    \n",
    "def define_and_compile_model(SHAPE,N_CLASSES):\n",
    "    inputs = tf.keras.layers.Input(shape=(SHAPE,))\n",
    "    \n",
    "    # create the model\n",
    "    model = final_model(inputs,N_CLASSES)\n",
    "    \n",
    "    # compile your model\n",
    "    model.compile(optimizer='adam',loss='binary_crossentropy',metrics = {'classification' : 'accuracy'})\n",
    "\n",
    "    return model"
   ]
  },
  {
   "cell_type": "code",
   "execution_count": 10,
   "id": "dd629b76",
   "metadata": {},
   "outputs": [
    {
     "name": "stdout",
     "output_type": "stream",
     "text": [
      "Model: \"model_1\"\n",
      "_________________________________________________________________\n",
      "Layer (type)                 Output Shape              Param #   \n",
      "=================================================================\n",
      "input_2 (InputLayer)         [(None, 561)]             0         \n",
      "_________________________________________________________________\n",
      "dense_4 (Dense)              (None, 32)                17984     \n",
      "_________________________________________________________________\n",
      "batch_normalization_4 (Batch (None, 32)                128       \n",
      "_________________________________________________________________\n",
      "dense_5 (Dense)              (None, 64)                2112      \n",
      "_________________________________________________________________\n",
      "batch_normalization_5 (Batch (None, 64)                256       \n",
      "_________________________________________________________________\n",
      "dense_6 (Dense)              (None, 128)               8320      \n",
      "_________________________________________________________________\n",
      "batch_normalization_6 (Batch (None, 128)               512       \n",
      "_________________________________________________________________\n",
      "dense_7 (Dense)              (None, 256)               33024     \n",
      "_________________________________________________________________\n",
      "batch_normalization_7 (Batch (None, 256)               1024      \n",
      "_________________________________________________________________\n",
      "classification (Dense)       (None, 172)               44204     \n",
      "=================================================================\n",
      "Total params: 107,564\n",
      "Trainable params: 106,604\n",
      "Non-trainable params: 960\n",
      "_________________________________________________________________\n"
     ]
    }
   ],
   "source": [
    "model = define_and_compile_model(SHAPE,N_CLASSES)\n",
    "model.summary()"
   ]
  },
  {
   "cell_type": "code",
   "execution_count": 11,
   "id": "d4b9c8e4",
   "metadata": {},
   "outputs": [
    {
     "name": "stdout",
     "output_type": "stream",
     "text": [
      "Epoch 1/50\n",
      "18/18 [==============================] - 1s 4ms/step - loss: 0.7931 - accuracy: 0.0166\n",
      "Epoch 2/50\n",
      "18/18 [==============================] - 0s 5ms/step - loss: 0.7093 - accuracy: 0.0277\n",
      "Epoch 3/50\n",
      "18/18 [==============================] - 0s 4ms/step - loss: 0.6415 - accuracy: 0.0832\n",
      "Epoch 4/50\n",
      "18/18 [==============================] - 0s 4ms/step - loss: 0.5274 - accuracy: 0.1189\n",
      "Epoch 5/50\n",
      "18/18 [==============================] - 0s 3ms/step - loss: 0.3632 - accuracy: 0.1564\n",
      "Epoch 6/50\n",
      "18/18 [==============================] - 0s 4ms/step - loss: 0.2119 - accuracy: 0.2172\n",
      "Epoch 7/50\n",
      "18/18 [==============================] - 0s 4ms/step - loss: 0.1207 - accuracy: 0.2348\n",
      "Epoch 8/50\n",
      "18/18 [==============================] - 0s 4ms/step - loss: 0.0767 - accuracy: 0.2954\n",
      "Epoch 9/50\n",
      "18/18 [==============================] - 0s 4ms/step - loss: 0.0561 - accuracy: 0.3983\n",
      "Epoch 10/50\n",
      "18/18 [==============================] - 0s 4ms/step - loss: 0.0456 - accuracy: 0.4149\n",
      "Epoch 11/50\n",
      "18/18 [==============================] - 0s 3ms/step - loss: 0.0390 - accuracy: 0.4912\n",
      "Epoch 12/50\n",
      "18/18 [==============================] - 0s 3ms/step - loss: 0.0349 - accuracy: 0.5120\n",
      "Epoch 13/50\n",
      "18/18 [==============================] - 0s 4ms/step - loss: 0.0316 - accuracy: 0.5751\n",
      "Epoch 14/50\n",
      "18/18 [==============================] - 0s 4ms/step - loss: 0.0289 - accuracy: 0.6320\n",
      "Epoch 15/50\n",
      "18/18 [==============================] - 0s 4ms/step - loss: 0.0266 - accuracy: 0.6485\n",
      "Epoch 16/50\n",
      "18/18 [==============================] - 0s 4ms/step - loss: 0.0248 - accuracy: 0.6654\n",
      "Epoch 17/50\n",
      "18/18 [==============================] - 0s 5ms/step - loss: 0.0234 - accuracy: 0.7014\n",
      "Epoch 18/50\n",
      "18/18 [==============================] - 0s 4ms/step - loss: 0.0216 - accuracy: 0.7580\n",
      "Epoch 19/50\n",
      "18/18 [==============================] - 0s 4ms/step - loss: 0.0197 - accuracy: 0.8063\n",
      "Epoch 20/50\n",
      "18/18 [==============================] - 0s 4ms/step - loss: 0.0187 - accuracy: 0.8102\n",
      "Epoch 21/50\n",
      "18/18 [==============================] - 0s 4ms/step - loss: 0.0174 - accuracy: 0.8450\n",
      "Epoch 22/50\n",
      "18/18 [==============================] - 0s 4ms/step - loss: 0.0157 - accuracy: 0.9104\n",
      "Epoch 23/50\n",
      "18/18 [==============================] - 0s 4ms/step - loss: 0.0150 - accuracy: 0.9134\n",
      "Epoch 24/50\n",
      "18/18 [==============================] - 0s 3ms/step - loss: 0.0136 - accuracy: 0.9104\n",
      "Epoch 25/50\n",
      "18/18 [==============================] - 0s 4ms/step - loss: 0.0129 - accuracy: 0.9380\n",
      "Epoch 26/50\n",
      "18/18 [==============================] - 0s 3ms/step - loss: 0.0119 - accuracy: 0.9459\n",
      "Epoch 27/50\n",
      "18/18 [==============================] - 0s 3ms/step - loss: 0.0108 - accuracy: 0.9613\n",
      "Epoch 28/50\n",
      "18/18 [==============================] - 0s 3ms/step - loss: 0.0106 - accuracy: 0.9545\n",
      "Epoch 29/50\n",
      "18/18 [==============================] - 0s 3ms/step - loss: 0.0092 - accuracy: 0.9816\n",
      "Epoch 30/50\n",
      "18/18 [==============================] - 0s 4ms/step - loss: 0.0086 - accuracy: 0.9859\n",
      "Epoch 31/50\n",
      "18/18 [==============================] - 0s 4ms/step - loss: 0.0081 - accuracy: 0.9852\n",
      "Epoch 32/50\n",
      "18/18 [==============================] - 0s 4ms/step - loss: 0.0077 - accuracy: 0.9854\n",
      "Epoch 33/50\n",
      "18/18 [==============================] - 0s 4ms/step - loss: 0.0073 - accuracy: 0.9877\n",
      "Epoch 34/50\n",
      "18/18 [==============================] - 0s 4ms/step - loss: 0.0067 - accuracy: 0.9940\n",
      "Epoch 35/50\n",
      "18/18 [==============================] - 0s 4ms/step - loss: 0.0064 - accuracy: 0.9925\n",
      "Epoch 36/50\n",
      "18/18 [==============================] - 0s 3ms/step - loss: 0.0057 - accuracy: 0.9926\n",
      "Epoch 37/50\n",
      "18/18 [==============================] - 0s 4ms/step - loss: 0.0056 - accuracy: 0.9933\n",
      "Epoch 38/50\n",
      "18/18 [==============================] - 0s 3ms/step - loss: 0.0052 - accuracy: 0.9962\n",
      "Epoch 39/50\n",
      "18/18 [==============================] - 0s 3ms/step - loss: 0.0052 - accuracy: 0.9921\n",
      "Epoch 40/50\n",
      "18/18 [==============================] - 0s 4ms/step - loss: 0.0046 - accuracy: 0.9970\n",
      "Epoch 41/50\n",
      "18/18 [==============================] - 0s 3ms/step - loss: 0.0044 - accuracy: 0.9890\n",
      "Epoch 42/50\n",
      "18/18 [==============================] - 0s 3ms/step - loss: 0.0042 - accuracy: 0.9926\n",
      "Epoch 43/50\n",
      "18/18 [==============================] - 0s 3ms/step - loss: 0.0039 - accuracy: 0.9985\n",
      "Epoch 44/50\n",
      "18/18 [==============================] - 0s 3ms/step - loss: 0.0035 - accuracy: 0.9978\n",
      "Epoch 45/50\n",
      "18/18 [==============================] - 0s 3ms/step - loss: 0.0034 - accuracy: 0.9960\n",
      "Epoch 46/50\n",
      "18/18 [==============================] - 0s 3ms/step - loss: 0.0033 - accuracy: 0.9961\n",
      "Epoch 47/50\n",
      "18/18 [==============================] - 0s 4ms/step - loss: 0.0032 - accuracy: 0.9897\n",
      "Epoch 48/50\n",
      "18/18 [==============================] - 0s 5ms/step - loss: 0.0031 - accuracy: 0.9868\n",
      "Epoch 49/50\n",
      "18/18 [==============================] - 0s 4ms/step - loss: 0.0029 - accuracy: 0.9964\n",
      "Epoch 50/50\n",
      "18/18 [==============================] - 0s 4ms/step - loss: 0.0027 - accuracy: 0.9940\n"
     ]
    },
    {
     "data": {
      "text/plain": [
       "<tensorflow.python.keras.callbacks.History at 0x7f880c4d8550>"
      ]
     },
     "execution_count": 11,
     "metadata": {},
     "output_type": "execute_result"
    }
   ],
   "source": [
    "model.fit(training,output,epochs=50)"
   ]
  },
  {
   "cell_type": "code",
   "execution_count": 12,
   "id": "0558865b",
   "metadata": {},
   "outputs": [],
   "source": [
    "def bag_of_words(s):\n",
    "    bag = [0 for _ in range(len(words))]\n",
    "\n",
    "    ponctuations = [\"?\",\"'\",'\"',\"!\",\".\",\",\"]\n",
    "\n",
    "    s_words = nltk.word_tokenize(s)\n",
    "    s_words = [w for w in s_words if w.lower() not in stopwords]\n",
    "    s_words = [stemmer.stem(word.lower()) for word in s_words if word not in ponctuations]\n",
    "\n",
    "    for se in s_words:\n",
    "        for i, w in enumerate(words):\n",
    "            if w == se:\n",
    "                bag[i] = 1\n",
    "    bag = np.array(bag)\n",
    "    return bag"
   ]
  },
  {
   "cell_type": "code",
   "execution_count": 13,
   "id": "f604966b",
   "metadata": {},
   "outputs": [
    {
     "name": "stdout",
     "output_type": "stream",
     "text": [
      "Digite: oi\n",
      "Model: Oi como vai? 0.98542076\n",
      "Digite: vou bem e você?\n",
      "Model: Fico feliz em saber que se sente bem 0.97689444\n",
      "Digite: tá fazendo oque?\n",
      "Model: <get_ocupied> 0.9951893\n",
      "Digite: desligar\n",
      "Model: <finalizar> 0.9742957\n",
      "Digite: quit\n"
     ]
    }
   ],
   "source": [
    "while True:\n",
    "    inp = str(input(\"Digite: \"))\n",
    "    if inp == \"quit\":\n",
    "        break\n",
    "        \n",
    "    bag = bag_of_words(inp)\n",
    "    bag = bag.reshape((1,SHAPE))\n",
    "    predictions = model.predict(bag)\n",
    "    results_index = np.argmax(predictions)\n",
    "\n",
    "    tag = labels[results_index]\n",
    "\n",
    "    for tg in data['intents']:\n",
    "        if tg['tag'] == tag:\n",
    "            responses = tg['responses']\n",
    "            current_tag = tg\n",
    "\n",
    "    response = random.choice(responses)\n",
    "    confidence = predictions[0][results_index]\n",
    "    print(\"Model:\",response,confidence)"
   ]
  },
  {
   "cell_type": "code",
   "execution_count": 14,
   "id": "d02f8d02",
   "metadata": {},
   "outputs": [],
   "source": [
    "model.save(\"model.h5\")"
   ]
  },
  {
   "cell_type": "code",
   "execution_count": 15,
   "id": "f887330d",
   "metadata": {},
   "outputs": [],
   "source": [
    "with open(\"../Data/intents.json\",\"w\",encoding='utf-8') as file:\n",
    "    json.dump(data,file,indent=3,ensure_ascii=False)"
   ]
  },
  {
   "cell_type": "code",
   "execution_count": 16,
   "id": "ba855f68",
   "metadata": {},
   "outputs": [],
   "source": [
    "with open(\"../Data/dataV2.pickle\", \"wb\") as f:\n",
    "    pickle.dump((words, labels, training, output), f)    "
   ]
  },
  {
   "cell_type": "code",
   "execution_count": 20,
   "id": "50d5d9a4",
   "metadata": {},
   "outputs": [],
   "source": [
    "with open(\"../Data/iniV2.pickle\", \"wb\") as f:\n",
    "    pickle.dump((120, NEURONS, EPOCHS), f)"
   ]
  }
 ],
 "metadata": {
  "kernelspec": {
   "display_name": "Python 3",
   "language": "python",
   "name": "python3"
  },
  "language_info": {
   "codemirror_mode": {
    "name": "ipython",
    "version": 3
   },
   "file_extension": ".py",
   "mimetype": "text/x-python",
   "name": "python",
   "nbconvert_exporter": "python",
   "pygments_lexer": "ipython3",
   "version": "3.7.9"
  }
 },
 "nbformat": 4,
 "nbformat_minor": 5
}
