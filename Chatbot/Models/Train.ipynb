{
 "cells": [
  {
   "cell_type": "code",
   "execution_count": 1,
   "id": "76885a84",
   "metadata": {},
   "outputs": [],
   "source": [
    "import tensorflow as tf\n",
    "import numpy as np\n",
    "import pickle\n",
    "import json\n",
    "import nltk\n",
    "import random\n",
    "from nltk.stem.lancaster import LancasterStemmer\n",
    "stemmer = LancasterStemmer()"
   ]
  },
  {
   "cell_type": "code",
   "execution_count": 2,
   "id": "9206c1b8",
   "metadata": {},
   "outputs": [
    {
     "output_type": "stream",
     "name": "stdout",
     "text": [
      "64 100\n"
     ]
    }
   ],
   "source": [
    "NEXT_QNT = NEURONS = EPOCHS = 0\n",
    "with open(\"../Data/iniV2.pickle\", \"rb\") as f:\n",
    "    NEXT_QNT , NEURONS, EPOCHS = pickle.load(f)\n",
    "print(NEURONS,EPOCHS)"
   ]
  },
  {
   "cell_type": "code",
   "execution_count": 54,
   "id": "5cb5a7d1",
   "metadata": {},
   "outputs": [],
   "source": [
    "words = []\n",
    "labels = []\n",
    "docs_x = []\n",
    "docs_y = []\n",
    "\n",
    "with open(\"../Data/intents.json\",\"r\",encoding='utf-8') as file:\n",
    "    data = json.load(file)\n",
    "\n",
    "for i,intent in enumerate(data[\"intents\"]):\n",
    "    intent[\"tag\"] = \"tag\"+str(i)\n",
    "\n",
    "with open(\"../Data/intents.json\",\"w\",encoding='utf-8') as file:\n",
    "    json.dump(data,file,indent=3,ensure_ascii=False)"
   ]
  },
  {
   "cell_type": "code",
   "execution_count": 55,
   "metadata": {},
   "outputs": [
    {
     "output_type": "execute_result",
     "data": {
      "text/plain": [
       "204"
      ]
     },
     "metadata": {},
     "execution_count": 55
    }
   ],
   "source": [
    "stopwords = nltk.corpus.stopwords.words('portuguese')\n",
    "len(stopwords)"
   ]
  },
  {
   "cell_type": "code",
   "execution_count": 56,
   "id": "c9f50187",
   "metadata": {},
   "outputs": [
    {
     "output_type": "stream",
     "name": "stdout",
     "text": [
      "493\n"
     ]
    }
   ],
   "source": [
    "for intent in data[\"intents\"]:\n",
    "    for pattern in intent[\"patterns\"]:\n",
    "        wrds = nltk.word_tokenize(pattern)\n",
    "        words.extend(wrds)\n",
    "        docs_x.append(wrds)\n",
    "        docs_y.append(intent[\"tag\"])\n",
    "\n",
    "    if intent[\"tag\"] not in labels:\n",
    "        labels.append(intent[\"tag\"])\n",
    "\n",
    "ponctuations = [\"?\",\"'\",'\"',\"!\",\".\",\",\"]\n",
    "\n",
    "words = [w for w in words if w.lower() not in stopwords]\n",
    "words = [stemmer.stem(w.lower()) for w in words if w not in ponctuations]\n",
    "words = sorted(list(set(words)))\n",
    "labels = sorted(labels)\n",
    "print(len(words))"
   ]
  },
  {
   "cell_type": "code",
   "execution_count": 57,
   "id": "77f51d1d",
   "metadata": {},
   "outputs": [],
   "source": [
    "training = []\n",
    "output = []\n",
    "\n",
    "out_empty = [0 for _ in range(len(labels))]\n",
    "\n",
    "for x, doc in enumerate(docs_x):\n",
    "    bag = []\n",
    "\n",
    "    wrds = [stemmer.stem(w.lower()) for w in doc]\n",
    "\n",
    "    for w in words:\n",
    "        if w in wrds:\n",
    "            bag.append(1)\n",
    "        else:\n",
    "            bag.append(0)\n",
    "\n",
    "    output_row = out_empty[:]\n",
    "    output_row[labels.index(docs_y[x])] = 1\n",
    "\n",
    "    training.append(bag)\n",
    "    output.append(output_row)\n",
    "\n",
    "\n",
    "training = np.array(training)\n",
    "output = np.array(output)\n",
    "N_CLASSES = len(output[0])\n",
    "SHAPE = len(training[0])"
   ]
  },
  {
   "cell_type": "code",
   "execution_count": 58,
   "id": "1f051ac1",
   "metadata": {},
   "outputs": [],
   "source": [
    "def dense_layers(inputs):\n",
    "    x = tf.keras.layers.Dense(NEURONS,activation='relu')(inputs)\n",
    "    x = tf.keras.layers.Dense(NEURONS,activation='relu')(x)\n",
    "    x = tf.keras.layers.Dense(NEURONS,activation='relu')(x)\n",
    "    return x\n",
    "\n",
    "def classfier_layer(x,N_CLASSES):\n",
    "    x = tf.keras.layers.Dense(N_CLASSES,activation='softmax',name='classification')(x)\n",
    "    return x\n",
    "\n",
    "def final_model(inputs,N_CLASSES):\n",
    "    dense = dense_layers(inputs)\n",
    "    \n",
    "    classfier = classfier_layer(dense,N_CLASSES)\n",
    "    \n",
    "    model = tf.keras.Model(inputs=inputs,outputs=classfier)\n",
    "    \n",
    "    return model\n",
    "    \n",
    "def define_and_compile_model(SHAPE,N_CLASSES):\n",
    "    inputs = tf.keras.layers.Input(shape=(SHAPE,))\n",
    "    \n",
    "    # create the model\n",
    "    model = final_model(inputs,N_CLASSES)\n",
    "    \n",
    "    # compile your model\n",
    "    model.compile(optimizer='adam',loss='binary_crossentropy',metrics = {'classification' : 'accuracy'})\n",
    "\n",
    "    return model"
   ]
  },
  {
   "cell_type": "code",
   "execution_count": 59,
   "id": "dd629b76",
   "metadata": {},
   "outputs": [
    {
     "output_type": "stream",
     "name": "stdout",
     "text": [
      "Model: \"model_3\"\n_________________________________________________________________\nLayer (type)                 Output Shape              Param #   \n=================================================================\ninput_4 (InputLayer)         [(None, 493)]             0         \n_________________________________________________________________\ndense_6 (Dense)              (None, 64)                31616     \n_________________________________________________________________\ndense_7 (Dense)              (None, 64)                4160      \n_________________________________________________________________\nclassification (Dense)       (None, 173)               11245     \n=================================================================\nTotal params: 47,021\nTrainable params: 47,021\nNon-trainable params: 0\n_________________________________________________________________\n"
     ]
    }
   ],
   "source": [
    "model = define_and_compile_model(SHAPE,N_CLASSES)\n",
    "model.summary()"
   ]
  },
  {
   "cell_type": "code",
   "execution_count": 62,
   "id": "d4b9c8e4",
   "metadata": {},
   "outputs": [
    {
     "output_type": "stream",
     "name": "stdout",
     "text": [
      "Epoch 1/100\n",
      "18/18 [==============================] - 0s 4ms/step - loss: 0.0320 - accuracy: 0.1495\n",
      "Epoch 2/100\n",
      "18/18 [==============================] - 0s 3ms/step - loss: 0.0317 - accuracy: 0.1495\n",
      "Epoch 3/100\n",
      "18/18 [==============================] - 0s 2ms/step - loss: 0.0313 - accuracy: 0.1655\n",
      "Epoch 4/100\n",
      "18/18 [==============================] - 0s 3ms/step - loss: 0.0310 - accuracy: 0.1690\n",
      "Epoch 5/100\n",
      "18/18 [==============================] - 0s 3ms/step - loss: 0.0306 - accuracy: 0.1797\n",
      "Epoch 6/100\n",
      "18/18 [==============================] - 0s 2ms/step - loss: 0.0301 - accuracy: 0.2135\n",
      "Epoch 7/100\n",
      "18/18 [==============================] - 0s 3ms/step - loss: 0.0297 - accuracy: 0.2171\n",
      "Epoch 8/100\n",
      "18/18 [==============================] - 0s 4ms/step - loss: 0.0292 - accuracy: 0.2295\n",
      "Epoch 9/100\n",
      "18/18 [==============================] - 0s 3ms/step - loss: 0.0287 - accuracy: 0.2509\n",
      "Epoch 10/100\n",
      "18/18 [==============================] - 0s 4ms/step - loss: 0.0281 - accuracy: 0.2544\n",
      "Epoch 11/100\n",
      "18/18 [==============================] - 0s 3ms/step - loss: 0.0276 - accuracy: 0.2758\n",
      "Epoch 12/100\n",
      "18/18 [==============================] - 0s 3ms/step - loss: 0.0270 - accuracy: 0.3060\n",
      "Epoch 13/100\n",
      "18/18 [==============================] - 0s 2ms/step - loss: 0.0265 - accuracy: 0.3416\n",
      "Epoch 14/100\n",
      "18/18 [==============================] - 0s 3ms/step - loss: 0.0259 - accuracy: 0.3577\n",
      "Epoch 15/100\n",
      "18/18 [==============================] - 0s 3ms/step - loss: 0.0253 - accuracy: 0.3843\n",
      "Epoch 16/100\n",
      "18/18 [==============================] - 0s 3ms/step - loss: 0.0247 - accuracy: 0.4039\n",
      "Epoch 17/100\n",
      "18/18 [==============================] - 0s 3ms/step - loss: 0.0241 - accuracy: 0.4520\n",
      "Epoch 18/100\n",
      "18/18 [==============================] - 0s 3ms/step - loss: 0.0235 - accuracy: 0.4822\n",
      "Epoch 19/100\n",
      "18/18 [==============================] - 0s 4ms/step - loss: 0.0229 - accuracy: 0.5285\n",
      "Epoch 20/100\n",
      "18/18 [==============================] - 0s 3ms/step - loss: 0.0223 - accuracy: 0.5534\n",
      "Epoch 21/100\n",
      "18/18 [==============================] - 0s 3ms/step - loss: 0.0217 - accuracy: 0.5676\n",
      "Epoch 22/100\n",
      "18/18 [==============================] - 0s 2ms/step - loss: 0.0212 - accuracy: 0.5872\n",
      "Epoch 23/100\n",
      "18/18 [==============================] - 0s 2ms/step - loss: 0.0206 - accuracy: 0.6085\n",
      "Epoch 24/100\n",
      "18/18 [==============================] - 0s 2ms/step - loss: 0.0201 - accuracy: 0.6530\n",
      "Epoch 25/100\n",
      "18/18 [==============================] - 0s 2ms/step - loss: 0.0195 - accuracy: 0.6584\n",
      "Epoch 26/100\n",
      "18/18 [==============================] - 0s 2ms/step - loss: 0.0189 - accuracy: 0.6815\n",
      "Epoch 27/100\n",
      "18/18 [==============================] - 0s 2ms/step - loss: 0.0184 - accuracy: 0.6993\n",
      "Epoch 28/100\n",
      "18/18 [==============================] - 0s 2ms/step - loss: 0.0179 - accuracy: 0.7171\n",
      "Epoch 29/100\n",
      "18/18 [==============================] - 0s 2ms/step - loss: 0.0173 - accuracy: 0.7242\n",
      "Epoch 30/100\n",
      "18/18 [==============================] - 0s 2ms/step - loss: 0.0168 - accuracy: 0.7544\n",
      "Epoch 31/100\n",
      "18/18 [==============================] - 0s 2ms/step - loss: 0.0163 - accuracy: 0.7669\n",
      "Epoch 32/100\n",
      "18/18 [==============================] - 0s 2ms/step - loss: 0.0158 - accuracy: 0.7900\n",
      "Epoch 33/100\n",
      "18/18 [==============================] - 0s 2ms/step - loss: 0.0153 - accuracy: 0.8078\n",
      "Epoch 34/100\n",
      "18/18 [==============================] - 0s 2ms/step - loss: 0.0148 - accuracy: 0.8114\n",
      "Epoch 35/100\n",
      "18/18 [==============================] - 0s 2ms/step - loss: 0.0143 - accuracy: 0.8167\n",
      "Epoch 36/100\n",
      "18/18 [==============================] - 0s 2ms/step - loss: 0.0138 - accuracy: 0.8310\n",
      "Epoch 37/100\n",
      "18/18 [==============================] - 0s 2ms/step - loss: 0.0134 - accuracy: 0.8434\n",
      "Epoch 38/100\n",
      "18/18 [==============================] - 0s 2ms/step - loss: 0.0130 - accuracy: 0.8612\n",
      "Epoch 39/100\n",
      "18/18 [==============================] - 0s 2ms/step - loss: 0.0125 - accuracy: 0.8826\n",
      "Epoch 40/100\n",
      "18/18 [==============================] - 0s 2ms/step - loss: 0.0121 - accuracy: 0.8719\n",
      "Epoch 41/100\n",
      "18/18 [==============================] - 0s 3ms/step - loss: 0.0117 - accuracy: 0.8737\n",
      "Epoch 42/100\n",
      "18/18 [==============================] - 0s 3ms/step - loss: 0.0113 - accuracy: 0.8915\n",
      "Epoch 43/100\n",
      "18/18 [==============================] - 0s 3ms/step - loss: 0.0109 - accuracy: 0.8968\n",
      "Epoch 44/100\n",
      "18/18 [==============================] - 0s 2ms/step - loss: 0.0105 - accuracy: 0.9075\n",
      "Epoch 45/100\n",
      "18/18 [==============================] - 0s 2ms/step - loss: 0.0102 - accuracy: 0.9093\n",
      "Epoch 46/100\n",
      "18/18 [==============================] - 0s 2ms/step - loss: 0.0098 - accuracy: 0.9110\n",
      "Epoch 47/100\n",
      "18/18 [==============================] - 0s 2ms/step - loss: 0.0095 - accuracy: 0.9164\n",
      "Epoch 48/100\n",
      "18/18 [==============================] - 0s 2ms/step - loss: 0.0092 - accuracy: 0.9253\n",
      "Epoch 49/100\n",
      "18/18 [==============================] - 0s 2ms/step - loss: 0.0088 - accuracy: 0.9199\n",
      "Epoch 50/100\n",
      "18/18 [==============================] - 0s 3ms/step - loss: 0.0086 - accuracy: 0.9306\n",
      "Epoch 51/100\n",
      "18/18 [==============================] - 0s 2ms/step - loss: 0.0082 - accuracy: 0.9377\n",
      "Epoch 52/100\n",
      "18/18 [==============================] - 0s 2ms/step - loss: 0.0080 - accuracy: 0.9395\n",
      "Epoch 53/100\n",
      "18/18 [==============================] - 0s 2ms/step - loss: 0.0077 - accuracy: 0.9413\n",
      "Epoch 54/100\n",
      "18/18 [==============================] - 0s 2ms/step - loss: 0.0075 - accuracy: 0.9466\n",
      "Epoch 55/100\n",
      "18/18 [==============================] - 0s 2ms/step - loss: 0.0072 - accuracy: 0.9484\n",
      "Epoch 56/100\n",
      "18/18 [==============================] - 0s 2ms/step - loss: 0.0070 - accuracy: 0.9484\n",
      "Epoch 57/100\n",
      "18/18 [==============================] - 0s 2ms/step - loss: 0.0067 - accuracy: 0.9555\n",
      "Epoch 58/100\n",
      "18/18 [==============================] - 0s 3ms/step - loss: 0.0065 - accuracy: 0.9537\n",
      "Epoch 59/100\n",
      "18/18 [==============================] - 0s 3ms/step - loss: 0.0063 - accuracy: 0.9573\n",
      "Epoch 60/100\n",
      "18/18 [==============================] - 0s 3ms/step - loss: 0.0061 - accuracy: 0.9520\n",
      "Epoch 61/100\n",
      "18/18 [==============================] - 0s 3ms/step - loss: 0.0059 - accuracy: 0.9502\n",
      "Epoch 62/100\n",
      "18/18 [==============================] - 0s 3ms/step - loss: 0.0057 - accuracy: 0.9555\n",
      "Epoch 63/100\n",
      "18/18 [==============================] - 0s 2ms/step - loss: 0.0055 - accuracy: 0.9537\n",
      "Epoch 64/100\n",
      "18/18 [==============================] - 0s 2ms/step - loss: 0.0053 - accuracy: 0.9520\n",
      "Epoch 65/100\n",
      "18/18 [==============================] - 0s 2ms/step - loss: 0.0052 - accuracy: 0.9520\n",
      "Epoch 66/100\n",
      "18/18 [==============================] - 0s 2ms/step - loss: 0.0050 - accuracy: 0.9555\n",
      "Epoch 67/100\n",
      "18/18 [==============================] - 0s 2ms/step - loss: 0.0048 - accuracy: 0.9591\n",
      "Epoch 68/100\n",
      "18/18 [==============================] - 0s 2ms/step - loss: 0.0047 - accuracy: 0.9591\n",
      "Epoch 69/100\n",
      "18/18 [==============================] - 0s 2ms/step - loss: 0.0046 - accuracy: 0.9555\n",
      "Epoch 70/100\n",
      "18/18 [==============================] - 0s 2ms/step - loss: 0.0044 - accuracy: 0.9573\n",
      "Epoch 71/100\n",
      "18/18 [==============================] - 0s 2ms/step - loss: 0.0043 - accuracy: 0.9573\n",
      "Epoch 72/100\n",
      "18/18 [==============================] - 0s 3ms/step - loss: 0.0042 - accuracy: 0.9555\n",
      "Epoch 73/100\n",
      "18/18 [==============================] - 0s 2ms/step - loss: 0.0040 - accuracy: 0.9573\n",
      "Epoch 74/100\n",
      "18/18 [==============================] - 0s 2ms/step - loss: 0.0039 - accuracy: 0.9573\n",
      "Epoch 75/100\n",
      "18/18 [==============================] - 0s 2ms/step - loss: 0.0038 - accuracy: 0.9573\n",
      "Epoch 76/100\n",
      "18/18 [==============================] - 0s 2ms/step - loss: 0.0037 - accuracy: 0.9591\n",
      "Epoch 77/100\n",
      "18/18 [==============================] - 0s 2ms/step - loss: 0.0036 - accuracy: 0.9591\n",
      "Epoch 78/100\n",
      "18/18 [==============================] - 0s 2ms/step - loss: 0.0035 - accuracy: 0.9555\n",
      "Epoch 79/100\n",
      "18/18 [==============================] - 0s 2ms/step - loss: 0.0034 - accuracy: 0.9591\n",
      "Epoch 80/100\n",
      "18/18 [==============================] - 0s 2ms/step - loss: 0.0033 - accuracy: 0.9591\n",
      "Epoch 81/100\n",
      "18/18 [==============================] - 0s 2ms/step - loss: 0.0032 - accuracy: 0.9591\n",
      "Epoch 82/100\n",
      "18/18 [==============================] - 0s 3ms/step - loss: 0.0031 - accuracy: 0.9626\n",
      "Epoch 83/100\n",
      "18/18 [==============================] - 0s 3ms/step - loss: 0.0030 - accuracy: 0.9591\n",
      "Epoch 84/100\n",
      "18/18 [==============================] - 0s 2ms/step - loss: 0.0030 - accuracy: 0.9609\n",
      "Epoch 85/100\n",
      "18/18 [==============================] - 0s 2ms/step - loss: 0.0029 - accuracy: 0.9609\n",
      "Epoch 86/100\n",
      "18/18 [==============================] - 0s 2ms/step - loss: 0.0028 - accuracy: 0.9609\n",
      "Epoch 87/100\n",
      "18/18 [==============================] - 0s 2ms/step - loss: 0.0028 - accuracy: 0.9591\n",
      "Epoch 88/100\n",
      "18/18 [==============================] - 0s 2ms/step - loss: 0.0027 - accuracy: 0.9609\n",
      "Epoch 89/100\n",
      "18/18 [==============================] - 0s 2ms/step - loss: 0.0026 - accuracy: 0.9555\n",
      "Epoch 90/100\n",
      "18/18 [==============================] - 0s 2ms/step - loss: 0.0026 - accuracy: 0.9591\n",
      "Epoch 91/100\n",
      "18/18 [==============================] - 0s 2ms/step - loss: 0.0025 - accuracy: 0.9591\n",
      "Epoch 92/100\n",
      "18/18 [==============================] - 0s 2ms/step - loss: 0.0024 - accuracy: 0.9609\n",
      "Epoch 93/100\n",
      "18/18 [==============================] - 0s 2ms/step - loss: 0.0024 - accuracy: 0.9644\n",
      "Epoch 94/100\n",
      "18/18 [==============================] - 0s 2ms/step - loss: 0.0023 - accuracy: 0.9609\n",
      "Epoch 95/100\n",
      "18/18 [==============================] - 0s 2ms/step - loss: 0.0023 - accuracy: 0.9662\n",
      "Epoch 96/100\n",
      "18/18 [==============================] - 0s 2ms/step - loss: 0.0022 - accuracy: 0.9537\n",
      "Epoch 97/100\n",
      "18/18 [==============================] - 0s 2ms/step - loss: 0.0022 - accuracy: 0.9609\n",
      "Epoch 98/100\n",
      "18/18 [==============================] - 0s 2ms/step - loss: 0.0021 - accuracy: 0.9644\n",
      "Epoch 99/100\n",
      "18/18 [==============================] - 0s 2ms/step - loss: 0.0021 - accuracy: 0.9644\n",
      "Epoch 100/100\n",
      "18/18 [==============================] - 0s 2ms/step - loss: 0.0021 - accuracy: 0.9644\n"
     ]
    },
    {
     "output_type": "execute_result",
     "data": {
      "text/plain": [
       "<tensorflow.python.keras.callbacks.History at 0x7f9c01c5cbd0>"
      ]
     },
     "metadata": {},
     "execution_count": 62
    }
   ],
   "source": [
    "model.fit(training,output,epochs=EPOCHS)"
   ]
  },
  {
   "cell_type": "code",
   "execution_count": 79,
   "id": "0558865b",
   "metadata": {},
   "outputs": [
    {
     "output_type": "execute_result",
     "data": {
      "text/plain": [
       "(493,)"
      ]
     },
     "metadata": {},
     "execution_count": 79
    }
   ],
   "source": [
    "def bag_of_words(s):\n",
    "    bag = [0 for _ in range(len(words))]\n",
    "\n",
    "    ponctuations = [\"?\",\"'\",'\"',\"!\",\".\",\",\"]\n",
    "\n",
    "    s_words = nltk.word_tokenize(s)\n",
    "    s_words = [w for w in s_words if w.lower() not in stopwords]\n",
    "    s_words = [stemmer.stem(word.lower()) for word in s_words if word not in ponctuations]\n",
    "\n",
    "    for se in s_words:\n",
    "        for i, w in enumerate(words):\n",
    "            if w == se:\n",
    "                bag[i] = 1\n",
    "    bag = np.array(bag)\n",
    "    return bag\n",
    "\n",
    "bag = bag_of_words(\"como você tá?\")\n",
    "bag.shape"
   ]
  },
  {
   "cell_type": "code",
   "execution_count": 80,
   "id": "f604966b",
   "metadata": {},
   "outputs": [
    {
     "output_type": "stream",
     "name": "stdout",
     "text": [
      "Me sinto otima,e você como se sente? 0.66586596\n"
     ]
    }
   ],
   "source": [
    "bag = bag.reshape((1,SHAPE))\n",
    "predictions = model.predict(bag)\n",
    "results_index = np.argmax(predictions)\n",
    "\n",
    "tag = labels[results_index]\n",
    "\n",
    "for tg in data['intents']:\n",
    "    if tg['tag'] == tag:\n",
    "        responses = tg['responses']\n",
    "        current_tag = tg\n",
    "\n",
    "response = random.choice(responses)\n",
    "confidence = predictions[0][results_index]\n",
    "print(response,confidence)"
   ]
  },
  {
   "cell_type": "code",
   "execution_count": 81,
   "metadata": {},
   "outputs": [],
   "source": [
    "model.save(\"model.h5\")"
   ]
  },
  {
   "cell_type": "code",
   "execution_count": 83,
   "metadata": {},
   "outputs": [],
   "source": [
    "with open(\"../Data/dataV2.pickle\", \"wb\") as f:\n",
    "    pickle.dump((words, labels, training, output), f)    "
   ]
  },
  {
   "cell_type": "code",
   "execution_count": null,
   "metadata": {},
   "outputs": [],
   "source": [
    "with open(\"Chatbot/Data/iniV2.pickle\", \"wb\") as f:\n",
    "    pickle.dump((next_qnt, self.NEURONS, self.EPOCHS), f)"
   ]
  }
 ],
 "metadata": {
  "kernelspec": {
   "display_name": "Python 3",
   "language": "python",
   "name": "python3"
  },
  "language_info": {
   "codemirror_mode": {
    "name": "ipython",
    "version": 3
   },
   "file_extension": ".py",
   "mimetype": "text/x-python",
   "name": "python",
   "nbconvert_exporter": "python",
   "pygments_lexer": "ipython3",
   "version": "3.8.5"
  }
 },
 "nbformat": 4,
 "nbformat_minor": 5
}